{
 "cells": [
  {
   "cell_type": "markdown",
   "id": "af6664e7",
   "metadata": {},
   "source": [
    "#### 1 Import Data and Required Packages\n",
    "##### Importing Pandas, Numpy, Matplotlib, Seaborn and Warings Library."
   ]
  },
  {
   "cell_type": "code",
   "execution_count": 1,
   "id": "1bf19d9d",
   "metadata": {},
   "outputs": [],
   "source": [
    "# Basic Import\n",
    "import numpy as np\n",
    "import pandas as pd\n",
    "import seaborn as sns\n",
    "import matplotlib.pyplot as plt\n",
    "# Modelling\n",
    "from sklearn.model_selection import train_test_split\n",
    "from sklearn.metrics import r2_score, mean_absolute_error, mean_squared_error\n",
    "from sklearn.svm import SVR\n",
    "from sklearn.tree import DecisionTreeRegressor\n",
    "from sklearn.neighbors import KNeighborsRegressor\n",
    "from sklearn.linear_model import LinearRegression, Ridge,Lasso\n",
    "from sklearn.ensemble import RandomForestRegressor,AdaBoostRegressor\n",
    "from sklearn.model_selection import RandomizedSearchCV"
   ]
  },
  {
   "cell_type": "markdown",
   "id": "93508ee8",
   "metadata": {},
   "source": [
    "#### Import the CSV Data as Pandas DataFrame"
   ]
  },
  {
   "cell_type": "code",
   "execution_count": 2,
   "id": "5db1187a",
   "metadata": {},
   "outputs": [],
   "source": [
    "# Load data\n",
    "df = pd.read_csv('C:/Users/Prujith/Documents/AI/home-data-for-ml-course/train.csv')\n",
    "# X = df.copy()\n",
    "# y = X.pop('SalePrice')"
   ]
  },
  {
   "cell_type": "markdown",
   "id": "1d18f1cb",
   "metadata": {},
   "source": [
    "#### Drop ID"
   ]
  },
  {
   "cell_type": "code",
   "execution_count": 3,
   "id": "67fcd6e1",
   "metadata": {},
   "outputs": [],
   "source": [
    "df.drop(\"Id\", axis = 1, inplace = True)"
   ]
  },
  {
   "cell_type": "markdown",
   "id": "d478ddbb",
   "metadata": {},
   "source": [
    "#### Shape of the dataset"
   ]
  },
  {
   "cell_type": "code",
   "execution_count": 4,
   "id": "f83c1e83",
   "metadata": {},
   "outputs": [
    {
     "name": "stdout",
     "output_type": "stream",
     "text": [
      "df : (1460, 80)\n"
     ]
    }
   ],
   "source": [
    "print(\"df : \" + str(df.shape))"
   ]
  },
  {
   "cell_type": "markdown",
   "id": "d23f11de",
   "metadata": {},
   "source": [
    "#### 2. Seperate Numeric & Categorical features, Temporal (Dates)"
   ]
  },
  {
   "cell_type": "code",
   "execution_count": 5,
   "id": "9f934676",
   "metadata": {},
   "outputs": [],
   "source": [
    "# Separate temporal features\n",
    "feature_with_year = []\n",
    "for feature in df.columns:\n",
    "    if \"Yr\" in feature or \"Year\" in feature:\n",
    "        feature_with_year.append(feature)\n"
   ]
  },
  {
   "cell_type": "code",
   "execution_count": 6,
   "id": "74fef84d",
   "metadata": {},
   "outputs": [
    {
     "name": "stdout",
     "output_type": "stream",
     "text": [
      "4 Temporal Features  ['YearBuilt', 'YearRemodAdd', 'GarageYrBlt', 'YrSold']\n",
      "\n",
      "\n",
      " 33 Numerical Features  ['MSSubClass', 'LotFrontage', 'LotArea', 'OverallQual', 'OverallCond', 'MasVnrArea', 'BsmtFinSF1', 'BsmtFinSF2', 'BsmtUnfSF', 'TotalBsmtSF', '1stFlrSF', '2ndFlrSF', 'LowQualFinSF', 'GrLivArea', 'BsmtFullBath', 'BsmtHalfBath', 'FullBath', 'HalfBath', 'BedroomAbvGr', 'KitchenAbvGr', 'TotRmsAbvGrd', 'Fireplaces', 'GarageCars', 'GarageArea', 'WoodDeckSF', 'OpenPorchSF', 'EnclosedPorch', '3SsnPorch', 'ScreenPorch', 'PoolArea', 'MiscVal', 'MoSold', 'SalePrice']\n",
      "\n",
      "\n",
      " 43 Categorical Features  ['MSZoning', 'Street', 'Alley', 'LotShape', 'LandContour', 'Utilities', 'LotConfig', 'LandSlope', 'Neighborhood', 'Condition1', 'Condition2', 'BldgType', 'HouseStyle', 'RoofStyle', 'RoofMatl', 'Exterior1st', 'Exterior2nd', 'MasVnrType', 'ExterQual', 'ExterCond', 'Foundation', 'BsmtQual', 'BsmtCond', 'BsmtExposure', 'BsmtFinType1', 'BsmtFinType2', 'Heating', 'HeatingQC', 'CentralAir', 'Electrical', 'KitchenQual', 'Functional', 'FireplaceQu', 'GarageType', 'GarageFinish', 'GarageQual', 'GarageCond', 'PavedDrive', 'PoolQC', 'Fence', 'MiscFeature', 'SaleType', 'SaleCondition']\n"
     ]
    }
   ],
   "source": [
    "# Separate numerical (Discrete, Continuous) and categorial features\n",
    "categorical_features = []\n",
    "numerical_features = []\n",
    "\n",
    "for feature in df.columns:\n",
    "    if feature not in feature_with_year:\n",
    "        if df[feature].dtypes == \"O\":\n",
    "            categorical_features.append(feature)\n",
    "        else:\n",
    "            numerical_features.append(feature)\n",
    "            \n",
    "print(len(feature_with_year), 'Temporal Features ', feature_with_year)\n",
    "print(\"\\n\\n\", len(numerical_features), \"Numerical Features \", numerical_features)\n",
    "print(\"\\n\\n\",len(categorical_features),\"Categorical Features \", categorical_features)"
   ]
  },
  {
   "cell_type": "markdown",
   "id": "6122d581",
   "metadata": {},
   "source": [
    "#### 2.1 Some numerical features (maybe discrete) are categories - 'int' to 'string'"
   ]
  },
  {
   "cell_type": "code",
   "execution_count": 7,
   "id": "795b0c92",
   "metadata": {},
   "outputs": [],
   "source": [
    "df2 = df.copy()"
   ]
  },
  {
   "cell_type": "code",
   "execution_count": 8,
   "id": "4335dc40",
   "metadata": {},
   "outputs": [],
   "source": [
    "# Some numerical features are actually really categories\n",
    "df2 = df.replace({\"MSSubClass\" : {20 : \"SC20\", 30 : \"SC30\", 40 : \"SC40\", 45 : \"SC45\", 50 : \"SC50\", 60 : \"SC60\", 70 : \"SC70\", 75 : \"SC75\", 80 : \"SC80\", 85 : \"SC85\", 90 : \"SC90\", 120 : \"SC120\", 150 : \"SC150\", 160 : \"SC160\", 180: \"SC180\", 190 : \"SC190\"},\n",
    "                    \"MoSold\" : {1 : \"Jan\", 2 : \"Feb\", 3 : \"Mar\", 4 :\"Apr\", 5 : \"May\", 6 : \"Jun\", 7 : \"Jul\", 8 : \"Aug\", 9 : \"Sep\", 10 :\"Oct\", 11 : \"Nov\", 12 : \"Dec\"}\n",
    "                      })\n",
    "\n",
    "# Removing from Numeriacal & Discrete features\n",
    "numerical_features.remove(\"MSSubClass\")\n",
    "numerical_features.remove(\"MoSold\")\n",
    "\n",
    "# Appending to Categorical Features\n",
    "categorical_features.append(\"MSSubClass\")\n",
    "categorical_features.append(\"MoSold\")"
   ]
  },
  {
   "cell_type": "markdown",
   "id": "c12ebfa6",
   "metadata": {},
   "source": [
    "#### 2.2  Separate numericals further (Discrete, Continuous)"
   ]
  },
  {
   "cell_type": "code",
   "execution_count": 9,
   "id": "997808f8",
   "metadata": {},
   "outputs": [],
   "source": [
    "# 1. Separate numerical (Discrete, Continuous) based on type\n",
    "int_dis_ft = []\n",
    "continuous_features = []\n",
    "for feature in numerical_features:\n",
    "    if df[feature].dtype in ['int64'] and feature not in feature_with_year:\n",
    "        int_dis_ft.append(feature)\n",
    "    elif df[feature].dtype in ['float64'] and feature not in feature_with_year:\n",
    "        continuous_features.append(feature)\n",
    "            "
   ]
  },
  {
   "cell_type": "code",
   "execution_count": 10,
   "id": "52cc8422",
   "metadata": {},
   "outputs": [
    {
     "name": "stdout",
     "output_type": "stream",
     "text": [
      "29 Disct Features  ['LotArea', 'OverallQual', 'OverallCond', 'BsmtFinSF1', 'BsmtFinSF2', 'BsmtUnfSF', 'TotalBsmtSF', '1stFlrSF', '2ndFlrSF', 'LowQualFinSF', 'GrLivArea', 'BsmtFullBath', 'BsmtHalfBath', 'FullBath', 'HalfBath', 'BedroomAbvGr', 'KitchenAbvGr', 'TotRmsAbvGrd', 'Fireplaces', 'GarageCars', 'GarageArea', 'WoodDeckSF', 'OpenPorchSF', 'EnclosedPorch', '3SsnPorch', 'ScreenPorch', 'PoolArea', 'MiscVal', 'SalePrice']\n",
      "\n",
      "\n",
      " 2 Cont Features  ['LotFrontage', 'MasVnrArea']\n"
     ]
    }
   ],
   "source": [
    "print(len(int_dis_ft), 'Disct Features ', int_dis_ft)\n",
    "print(\"\\n\\n\", len(continuous_features), \"Cont Features \", continuous_features)"
   ]
  },
  {
   "cell_type": "code",
   "execution_count": 11,
   "id": "79c85fb2",
   "metadata": {
    "scrolled": false
   },
   "outputs": [
    {
     "name": "stdout",
     "output_type": "stream",
     "text": [
      "13 Discrete Features  ['OverallQual', 'OverallCond', 'BsmtFullBath', 'BsmtHalfBath', 'FullBath', 'HalfBath', 'BedroomAbvGr', 'KitchenAbvGr', 'TotRmsAbvGrd', 'Fireplaces', 'GarageCars', '3SsnPorch', 'PoolArea']\n",
      "\n",
      "\n",
      " 16 Continuous Features  ['LotArea', 'BsmtFinSF1', 'BsmtFinSF2', 'BsmtUnfSF', 'TotalBsmtSF', '1stFlrSF', '2ndFlrSF', 'LowQualFinSF', 'GrLivArea', 'GarageArea', 'WoodDeckSF', 'OpenPorchSF', 'EnclosedPorch', 'ScreenPorch', 'MiscVal', 'SalePrice']\n"
     ]
    }
   ],
   "source": [
    "# 2. Finally further seperating Continuous from integer Discrete\n",
    "discrete_features = []\n",
    "continuous_features = []\n",
    "\n",
    "for feature in int_dis_ft:\n",
    "    if len(df[feature].unique()) <= 20 and feature not in feature_with_year:\n",
    "        discrete_features.append(feature)\n",
    "    else:\n",
    "        continuous_features.append(feature)\n",
    "            \n",
    "print(len(discrete_features), \"Discrete Features \", discrete_features)\n",
    "print(\"\\n\\n\",len(continuous_features), \"Continuous Features \", continuous_features)"
   ]
  },
  {
   "cell_type": "markdown",
   "id": "34d5497e",
   "metadata": {},
   "source": [
    "### 3. Temporal features"
   ]
  },
  {
   "cell_type": "markdown",
   "id": "9cb4c260",
   "metadata": {},
   "source": [
    "#### Handle Temporal Features so that it will belong to Numeric or Categorical Features"
   ]
  },
  {
   "cell_type": "code",
   "execution_count": 12,
   "id": "ab781f37",
   "metadata": {},
   "outputs": [],
   "source": [
    "# For temporal variables, we will change years to \"age\" meaning how many years old.\n",
    "def handle_temporal_variable(X):\n",
    "    for feature in feature_with_year:\n",
    "        if feature != \"YrSold\":\n",
    "            X[feature] = X[\"YrSold\"] - X[feature]\n",
    "    return X\n",
    "\n",
    "# X_train = handle_temporal_variable(X_train) # Handled Temporal Variables"
   ]
  },
  {
   "cell_type": "code",
   "execution_count": 13,
   "id": "bd255172",
   "metadata": {},
   "outputs": [],
   "source": [
    "df3 = df2.copy()"
   ]
  },
  {
   "cell_type": "code",
   "execution_count": 14,
   "id": "00059b38",
   "metadata": {},
   "outputs": [],
   "source": [
    "df3 = handle_temporal_variable(df3)"
   ]
  },
  {
   "cell_type": "markdown",
   "id": "1123d953",
   "metadata": {},
   "source": [
    "## Handle Missing Values: Part 1 - Description based filling Missing Values"
   ]
  },
  {
   "cell_type": "raw",
   "id": "2a343d2a",
   "metadata": {},
   "source": [
    "Analyse Description to create features\n",
    "a) Numerical: 'Na' means 0\n",
    "Categorical:\n",
    "b) \"Na\" means \"No\",\"None\",etc\n",
    "c) Ordinal\n",
    "d) Nominal (Remaining Categorical Features excluding Ordinals are Nominals)"
   ]
  },
  {
   "cell_type": "code",
   "execution_count": 15,
   "id": "4a6c4b50",
   "metadata": {},
   "outputs": [],
   "source": [
    "# a)\n",
    "# Numerical Features with description mentioned NA's\n",
    "num_with_Desc_Na = [\"BedroomAbvGr\",\"BsmtFullBath\",\"BsmtHalfBath\",\"BsmtUnfSF\",\"EnclosedPorch\",\"Fireplaces\",\"GarageArea\",\"GarageCars\",\"HalfBath\",\"KitchenAbvGr\",\"LotFrontage\",\"MasVnrArea\",\"MiscVal\",\"OpenPorchSF\",\"PoolArea\",\"ScreenPorch\",\"TotRmsAbvGrd\",\"WoodDeckSF\"]\n",
    "# b)\n",
    "# Similarly categorical Features with description mentioned NA's\n",
    "cat_with_Desc_Na = ['BsmtQual','BsmtCond','BsmtExposure','BsmtFinType1','BsmtFinType2','Fence','FireplaceQu','GarageType','GarageFinish','GarageQual','GarageCond','MiscFeature','PoolQC']\n",
    "# b.1) \"Alley\" - \"None\", \"Functional\" - \"Typ\"\n",
    "# c) Ordinals from\n",
    "# c.1) cat_with_Desc_Na = [\"BsmtExposure\",\"BsmtFinType1\",\"BsmtFinType2\",\"BsmtCond\",\"BsmtQual\",\"FireplaceQu\",\"GarageCond\",\"GarageQual\",\"PoolQC\"]\n",
    "# c.2) excluding cat_with_Desc_Na [\"Alley\",\"ExterCond\",\"ExterQual\",\"HeatingQC\",\"KitchenQual\",\"Functional\",\"LandSlope\",\"LotShape\",\"Street\",\"Utilities\",\"PavedDrive\"]\n",
    "\n",
    "# c)\n",
    "Ordinals = [\"BsmtExposure\",\"BsmtFinType1\",\"BsmtFinType2\",\"BsmtCond\",\"BsmtQual\",\"FireplaceQu\",\"GarageCond\",\"GarageQual\",\"PoolQC\",\"Alley\",\"ExterCond\",\"ExterQual\",\"HeatingQC\",\"KitchenQual\",\"Functional\",\"LandSlope\",\"LotShape\",\"Street\",\"Utilities\",\"PavedDrive\"]\n"
   ]
  },
  {
   "cell_type": "markdown",
   "id": "7a87943a",
   "metadata": {},
   "source": [
    "#### Numerical Features - Filling zero's because description says so (Explicitly or Implicitly)"
   ]
  },
  {
   "cell_type": "code",
   "execution_count": 16,
   "id": "e5580e3a",
   "metadata": {},
   "outputs": [],
   "source": [
    "df4 = df3.copy()"
   ]
  },
  {
   "cell_type": "code",
   "execution_count": 17,
   "id": "fdd42757",
   "metadata": {
    "scrolled": true
   },
   "outputs": [
    {
     "name": "stderr",
     "output_type": "stream",
     "text": [
      "C:\\Users\\Prujith\\AppData\\Local\\Temp\\ipykernel_9520\\1941900631.py:1: SettingWithCopyWarning: \n",
      "A value is trying to be set on a copy of a slice from a DataFrame\n",
      "\n",
      "See the caveats in the documentation: https://pandas.pydata.org/pandas-docs/stable/user_guide/indexing.html#returning-a-view-versus-a-copy\n",
      "  df4[num_with_Desc_Na].fillna(0, inplace=True)\n"
     ]
    }
   ],
   "source": [
    "df4[num_with_Desc_Na].fillna(0, inplace=True)"
   ]
  },
  {
   "cell_type": "code",
   "execution_count": 18,
   "id": "d7dd0bc6",
   "metadata": {},
   "outputs": [],
   "source": [
    "df5 = df4.copy()"
   ]
  },
  {
   "cell_type": "code",
   "execution_count": 19,
   "id": "5217594b",
   "metadata": {},
   "outputs": [
    {
     "name": "stderr",
     "output_type": "stream",
     "text": [
      "C:\\Users\\Prujith\\AppData\\Local\\Temp\\ipykernel_9520\\3515769861.py:4: SettingWithCopyWarning: \n",
      "A value is trying to be set on a copy of a slice from a DataFrame\n",
      "\n",
      "See the caveats in the documentation: https://pandas.pydata.org/pandas-docs/stable/user_guide/indexing.html#returning-a-view-versus-a-copy\n",
      "  df5[cat_with_Desc_Na].fillna(\"No\", inplace=True)\n"
     ]
    }
   ],
   "source": [
    "# Categorical\n",
    "# Replace \"Na\" to \"No\",\"None\",etc of Desc_for_Na because description says so (Explicitly or Implicitly)\n",
    "\n",
    "df5[cat_with_Desc_Na].fillna(\"No\", inplace=True)\n",
    "\n",
    "# Alley : data description says NA means \"no alley access\"\n",
    "df5.loc[:, \"Alley\"] = df5.loc[:, \"Alley\"].fillna(\"None\")\n",
    "\n",
    "# Functional : data description says NA means typical\n",
    "df5.loc[:, \"Functional\"] = df5.loc[:, \"Functional\"].fillna(\"Typ\")\n"
   ]
  },
  {
   "cell_type": "markdown",
   "id": "ae09ea31",
   "metadata": {},
   "source": [
    "## Encoding Ordinal Features"
   ]
  },
  {
   "cell_type": "code",
   "execution_count": 20,
   "id": "bc399feb",
   "metadata": {},
   "outputs": [],
   "source": [
    "df6 = df5.copy()"
   ]
  },
  {
   "cell_type": "code",
   "execution_count": 21,
   "id": "c94f02a2",
   "metadata": {},
   "outputs": [],
   "source": [
    "df6 = df6.replace({\"Alley\" : {\"None\" : 0, \"Grvl\" : 1, \"Pave\" : 2},\n",
    "                   \"ExterCond\" : {\"Po\" : 1, \"Fa\" : 2, \"TA\": 3, \"Gd\": 4, \"Ex\" : 5},\n",
    "                   \"ExterQual\" : {\"Po\" : 1, \"Fa\" : 2, \"TA\": 3, \"Gd\": 4, \"Ex\" : 5},\n",
    "                   \"HeatingQC\" : {\"Po\" : 1, \"Fa\" : 2, \"TA\" : 3, \"Gd\" : 4, \"Ex\" : 5},\n",
    "                 \"KitchenQual\" : {\"Po\" : 1, \"Fa\" : 2, \"TA\" : 3, \"Gd\" : 4, \"Ex\" : 5},\n",
    "                  \"Functional\" : {\"Sal\" : 1, \"Sev\" : 2, \"Maj2\" : 3, \"Maj1\" : 4, \"Mod\": 5, \"Min2\" : 6, \"Min1\" : 7, \"Typ\" : 8},\n",
    "                   \"LandSlope\" : {\"Sev\" : 1, \"Mod\" : 2, \"Gtl\" : 3},\n",
    "                    \"LotShape\" : {\"IR3\" : 1, \"IR2\" : 2, \"IR1\" : 3, \"Reg\" : 4},\n",
    "                      \"Street\" : {\"Grvl\" : 1, \"Pave\" : 2},\n",
    "                   \"Utilities\" : {\"ELO\" : 1, \"NoSeWa\" : 2, \"NoSewr\" : 3, \"AllPub\" : 4},\n",
    "\n",
    "                \"BsmtExposure\" : {\"No\" : 0, \"Mn\" : 1, \"Av\": 2, \"Gd\" : 3},\n",
    "                \"BsmtFinType1\" : {\"No\" : 0, \"Unf\" : 1, \"LwQ\": 2, \"Rec\" : 3, \"BLQ\" : 4, \"ALQ\" : 5, \"GLQ\" : 6},\n",
    "                \"BsmtFinType2\" : {\"No\" : 0, \"Unf\" : 1, \"LwQ\": 2, \"Rec\" : 3, \"BLQ\" : 4, \"ALQ\" : 5, \"GLQ\" : 6},\n",
    "                    \"BsmtCond\" : {\"No\" : 0, \"Po\" : 1, \"Fa\" : 2, \"TA\" : 3, \"Gd\" : 4, \"Ex\" : 5},\n",
    "                    \"BsmtQual\" : {\"No\" : 0, \"Po\" : 1, \"Fa\" : 2, \"TA\": 3, \"Gd\" : 4, \"Ex\" : 5},\n",
    "                 \"FireplaceQu\" : {\"No\" : 0, \"Po\" : 1, \"Fa\" : 2, \"TA\" : 3, \"Gd\" : 4, \"Ex\" : 5},\n",
    "                  \"GarageCond\" : {\"No\" : 0, \"Po\" : 1, \"Fa\" : 2, \"TA\" : 3, \"Gd\" : 4, \"Ex\" : 5},\n",
    "                  \"GarageQual\" : {\"No\" : 0, \"Po\" : 1, \"Fa\" : 2, \"TA\" : 3, \"Gd\" : 4, \"Ex\" : 5},\n",
    "                  \"PavedDrive\" : {\"N\" : 0, \"P\" : 1, \"Y\" : 2},\n",
    "                      \"PoolQC\" : {\"No\" : 0, \"Fa\" : 1, \"TA\" : 2, \"Gd\" : 3, \"Ex\" : 4}}\n",
    "                    )"
   ]
  },
  {
   "cell_type": "markdown",
   "id": "36d9916e",
   "metadata": {},
   "source": [
    "# Outliers"
   ]
  },
  {
   "cell_type": "code",
   "execution_count": 22,
   "id": "d11675dc",
   "metadata": {},
   "outputs": [],
   "source": [
    "def handle_outliers(X):\n",
    "    for feature in X.columns:\n",
    "        if X[feature].dtypes != \"O\":\n",
    "            q1 = np.percentile(X[feature], 25, interpolation='midpoint')\n",
    "            median = np.percentile(X[feature], 50, interpolation='midpoint')\n",
    "            q3 = np.percentile(X[feature], 75, interpolation='midpoint')\n",
    "            iqr = q3 - q1\n",
    "           \n",
    "            upper_limit = (q3 + 1.5*iqr)\n",
    "            lower_limit = (q1 - 1.5*iqr)\n",
    "           \n",
    "            X[feature] = np.where(X[feature] > upper_limit, median, X[feature])\n",
    "            X[feature] = np.where(X[feature] < lower_limit, median, X[feature])\n",
    "       \n",
    "    return X"
   ]
  },
  {
   "cell_type": "code",
   "execution_count": 23,
   "id": "c80fd5ec",
   "metadata": {},
   "outputs": [],
   "source": [
    "df7 = df6.copy()"
   ]
  },
  {
   "cell_type": "code",
   "execution_count": 24,
   "id": "99b7390d",
   "metadata": {
    "scrolled": false
   },
   "outputs": [
    {
     "name": "stderr",
     "output_type": "stream",
     "text": [
      "C:\\Users\\Prujith\\AppData\\Local\\Temp\\ipykernel_9520\\167903821.py:4: DeprecationWarning: the `interpolation=` argument to percentile was renamed to `method=`, which has additional options.\n",
      "Users of the modes 'nearest', 'lower', 'higher', or 'midpoint' are encouraged to review the method they used. (Deprecated NumPy 1.22)\n",
      "  q1 = np.percentile(X[feature], 25, interpolation='midpoint')\n",
      "C:\\Users\\Prujith\\AppData\\Local\\Temp\\ipykernel_9520\\167903821.py:5: DeprecationWarning: the `interpolation=` argument to percentile was renamed to `method=`, which has additional options.\n",
      "Users of the modes 'nearest', 'lower', 'higher', or 'midpoint' are encouraged to review the method they used. (Deprecated NumPy 1.22)\n",
      "  median = np.percentile(X[feature], 50, interpolation='midpoint')\n",
      "C:\\Users\\Prujith\\AppData\\Local\\Temp\\ipykernel_9520\\167903821.py:6: DeprecationWarning: the `interpolation=` argument to percentile was renamed to `method=`, which has additional options.\n",
      "Users of the modes 'nearest', 'lower', 'higher', or 'midpoint' are encouraged to review the method they used. (Deprecated NumPy 1.22)\n",
      "  q3 = np.percentile(X[feature], 75, interpolation='midpoint')\n"
     ]
    }
   ],
   "source": [
    "df7 = handle_outliers(df7)"
   ]
  },
  {
   "cell_type": "markdown",
   "id": "fac7cc6d",
   "metadata": {},
   "source": [
    "## Handle Missing Values: Part 2"
   ]
  },
  {
   "cell_type": "markdown",
   "id": "61b007b6",
   "metadata": {},
   "source": [
    "### Seperate Features"
   ]
  },
  {
   "cell_type": "code",
   "execution_count": 25,
   "id": "d7782840",
   "metadata": {},
   "outputs": [],
   "source": [
    "# Again Separate numerical and categorial features to do round 2 of handling missing Values"
   ]
  },
  {
   "cell_type": "code",
   "execution_count": 26,
   "id": "dc56ad85",
   "metadata": {},
   "outputs": [
    {
     "name": "stdout",
     "output_type": "stream",
     "text": [
      "Numerical features : 54\n",
      "Categorical features : 25\n"
     ]
    }
   ],
   "source": [
    "# Separate numerical and categorial features\n",
    "new_categorical_features = []\n",
    "new_numerical_features = []\n",
    "\n",
    "# Differentiate numerical features (minus the target) and categorical features\n",
    "new_categorical_features = df7.select_dtypes(include = [\"object\"]).columns\n",
    "new_numerical_features = df7.select_dtypes(exclude = [\"object\"]).columns\n",
    "# Remove SalesPrice\n",
    "new_numerical_features = new_numerical_features.drop(\"SalePrice\")\n",
    "\n",
    "print(\"Numerical features : \" + str(len(new_numerical_features)))\n",
    "print(\"Categorical features : \" + str(len(new_categorical_features)))\n",
    "\n",
    "train_num = df7[new_numerical_features]\n",
    "train_cat = df7[new_categorical_features]\n",
    "            \n",
    "# print(len(feature_with_year), 'Temporal Features ', feature_with_year)\n",
    "# print(\"\\n\\n\", len(new_numerical_features), \"Numerical Features \", new_numerical_features)\n",
    "# print(\"\\n\\n\",len(new_categorical_features),\"Categorical Features \", new_categorical_features)"
   ]
  },
  {
   "cell_type": "markdown",
   "id": "82b187e3",
   "metadata": {},
   "source": [
    "### Numerical Features"
   ]
  },
  {
   "cell_type": "code",
   "execution_count": 27,
   "id": "0d11544a",
   "metadata": {
    "scrolled": true
   },
   "outputs": [
    {
     "name": "stdout",
     "output_type": "stream",
     "text": [
      "NAs for numerical features in train : 2840\n",
      "Remaining NAs for numerical features in train : 0\n"
     ]
    }
   ],
   "source": [
    "# 5.2 Impute by using median as replacement\n",
    "print(\"NAs for numerical features in train : \" + str(train_num.isnull().values.sum()))\n",
    "train_num = train_num.fillna(train_num.median())\n",
    "print(\"Remaining NAs for numerical features in train : \" + str(train_num.isnull().values.sum()))"
   ]
  },
  {
   "cell_type": "markdown",
   "id": "3ca62b10",
   "metadata": {},
   "source": [
    "### Nominal Features - One Hot Encoding"
   ]
  },
  {
   "cell_type": "code",
   "execution_count": 28,
   "id": "335f8135",
   "metadata": {},
   "outputs": [
    {
     "name": "stdout",
     "output_type": "stream",
     "text": [
      "NAs for categorical features in train : 2756\n",
      "Remaining NAs for categorical features in train : 0\n"
     ]
    }
   ],
   "source": [
    "# Create dummy features for categorical values via one-hot encoding\n",
    "print(\"NAs for categorical features in train : \" + str(train_cat.isnull().values.sum()))\n",
    "train_cat = pd.get_dummies(train_cat)\n",
    "print(\"Remaining NAs for categorical features in train : \" + str(train_cat.isnull().values.sum()))"
   ]
  },
  {
   "cell_type": "code",
   "execution_count": 29,
   "id": "af14b39c",
   "metadata": {},
   "outputs": [
    {
     "name": "stdout",
     "output_type": "stream",
     "text": [
      "New number of features : 250\n"
     ]
    }
   ],
   "source": [
    "# Join categorical and numerical features\n",
    "train = pd.concat([train_num, train_cat], axis = 1)\n",
    "print(\"New number of features : \" + str(train.shape[1]))"
   ]
  },
  {
   "cell_type": "markdown",
   "id": "82dd9f43",
   "metadata": {},
   "source": [
    "# Modeling"
   ]
  },
  {
   "cell_type": "markdown",
   "id": "dc3ace7b",
   "metadata": {},
   "source": [
    "#### Preparing X and Y variables"
   ]
  },
  {
   "cell_type": "code",
   "execution_count": 30,
   "id": "29a54448",
   "metadata": {},
   "outputs": [],
   "source": [
    "X = train.copy()\n",
    "y = df.SalePrice"
   ]
  },
  {
   "cell_type": "code",
   "execution_count": 31,
   "id": "a6086a3f",
   "metadata": {},
   "outputs": [
    {
     "data": {
      "text/plain": [
       "(1460, 250)"
      ]
     },
     "execution_count": 31,
     "metadata": {},
     "output_type": "execute_result"
    }
   ],
   "source": [
    "X.shape"
   ]
  },
  {
   "cell_type": "code",
   "execution_count": 32,
   "id": "0479233c",
   "metadata": {},
   "outputs": [
    {
     "name": "stdout",
     "output_type": "stream",
     "text": [
      "X_train : (1022, 250)\n",
      "X_test : (438, 250)\n",
      "y_train : (1022,)\n",
      "y_test : (438,)\n"
     ]
    }
   ],
   "source": [
    "# Partition the dataset in train + validation sets\n",
    "X_train, X_test, y_train, y_test = train_test_split(X, y, test_size = 0.3, random_state = 0)\n",
    "print(\"X_train : \" + str(X_train.shape))\n",
    "print(\"X_test : \" + str(X_test.shape))\n",
    "print(\"y_train : \" + str(y_train.shape))\n",
    "print(\"y_test : \" + str(y_test.shape))"
   ]
  },
  {
   "cell_type": "markdown",
   "id": "9aab0cce",
   "metadata": {},
   "source": [
    "#### Create an Evaluate Function to give all metrics after model Training"
   ]
  },
  {
   "cell_type": "code",
   "execution_count": 33,
   "id": "c7b07472",
   "metadata": {},
   "outputs": [],
   "source": [
    "def evaluate_model(true, predicted):\n",
    "    mae = mean_absolute_error(true, predicted)\n",
    "    mse = mean_squared_error(true, predicted)\n",
    "    rmse = np.sqrt(mean_squared_error(true, predicted))\n",
    "    r2_square = r2_score(true, predicted)\n",
    "    return mae, rmse, r2_square"
   ]
  },
  {
   "cell_type": "code",
   "execution_count": 34,
   "id": "59dc1ccb",
   "metadata": {},
   "outputs": [
    {
     "name": "stdout",
     "output_type": "stream",
     "text": [
      "Linear Regression\n",
      "Model performance for Training set\n",
      "- Root Mean Squared Error: 22831.7783\n",
      "- Mean Absolute Error: 15758.0130\n",
      "- R2 Score: 0.9145\n",
      "----------------------------------\n",
      "Model performance for Test set\n",
      "- Root Mean Squared Error: 219771774.5165\n",
      "- Mean Absolute Error: 26709234.3484\n",
      "- R2 Score: -7114403.7380\n",
      "===================================\n",
      "\n",
      "\n"
     ]
    },
    {
     "name": "stderr",
     "output_type": "stream",
     "text": [
      "C:\\ProgramData\\anaconda3\\lib\\site-packages\\sklearn\\linear_model\\_coordinate_descent.py:631: ConvergenceWarning: Objective did not converge. You might want to increase the number of iterations, check the scale of the features or consider increasing regularisation. Duality gap: 2.663e+11, tolerance: 6.234e+08\n",
      "  model = cd_fast.enet_coordinate_descent(\n"
     ]
    },
    {
     "name": "stdout",
     "output_type": "stream",
     "text": [
      "Lasso\n",
      "Model performance for Training set\n",
      "- Root Mean Squared Error: 22835.1004\n",
      "- Mean Absolute Error: 15781.8630\n",
      "- R2 Score: 0.9145\n",
      "----------------------------------\n",
      "Model performance for Test set\n",
      "- Root Mean Squared Error: 41342.4499\n",
      "- Mean Absolute Error: 23000.0405\n",
      "- R2 Score: 0.7482\n",
      "===================================\n",
      "\n",
      "\n",
      "Ridge\n",
      "Model performance for Training set\n",
      "- Root Mean Squared Error: 23355.0703\n",
      "- Mean Absolute Error: 16024.6690\n",
      "- R2 Score: 0.9106\n",
      "----------------------------------\n",
      "Model performance for Test set\n",
      "- Root Mean Squared Error: 38508.2651\n",
      "- Mean Absolute Error: 21965.4246\n",
      "- R2 Score: 0.7816\n",
      "===================================\n",
      "\n",
      "\n",
      "K-Neighbors Regressor\n",
      "Model performance for Training set\n",
      "- Root Mean Squared Error: 39530.7316\n",
      "- Mean Absolute Error: 25014.0149\n",
      "- R2 Score: 0.7438\n",
      "----------------------------------\n",
      "Model performance for Test set\n",
      "- Root Mean Squared Error: 54849.7996\n",
      "- Mean Absolute Error: 30580.4064\n",
      "- R2 Score: 0.5569\n",
      "===================================\n",
      "\n",
      "\n",
      "Decision Tree\n",
      "Model performance for Training set\n",
      "- Root Mean Squared Error: 0.0000\n",
      "- Mean Absolute Error: 0.0000\n",
      "- R2 Score: 1.0000\n",
      "----------------------------------\n",
      "Model performance for Test set\n",
      "- Root Mean Squared Error: 50739.6379\n",
      "- Mean Absolute Error: 29270.3082\n",
      "- R2 Score: 0.6208\n",
      "===================================\n",
      "\n",
      "\n",
      "Random Forest Regressor\n",
      "Model performance for Training set\n",
      "- Root Mean Squared Error: 11957.6494\n",
      "- Mean Absolute Error: 6961.2039\n",
      "- R2 Score: 0.9766\n",
      "----------------------------------\n",
      "Model performance for Test set\n",
      "- Root Mean Squared Error: 34022.3437\n",
      "- Mean Absolute Error: 18479.7755\n",
      "- R2 Score: 0.8295\n",
      "===================================\n",
      "\n",
      "\n",
      "AdaBoost Regressor\n",
      "Model performance for Training set\n",
      "- Root Mean Squared Error: 28740.9201\n",
      "- Mean Absolute Error: 22429.3685\n",
      "- R2 Score: 0.8646\n",
      "----------------------------------\n",
      "Model performance for Test set\n",
      "- Root Mean Squared Error: 37958.3456\n",
      "- Mean Absolute Error: 25277.1162\n",
      "- R2 Score: 0.7878\n",
      "===================================\n",
      "\n",
      "\n"
     ]
    }
   ],
   "source": [
    "models = {\n",
    "    \"Linear Regression\": LinearRegression(),\n",
    "    \"Lasso\": Lasso(),\n",
    "    \"Ridge\": Ridge(),\n",
    "    \"K-Neighbors Regressor\": KNeighborsRegressor(),\n",
    "    \"Decision Tree\": DecisionTreeRegressor(),\n",
    "    \"Random Forest Regressor\": RandomForestRegressor(),\n",
    "    \"AdaBoost Regressor\": AdaBoostRegressor()\n",
    "}\n",
    "model_list = []\n",
    "r2_list =[]\n",
    "\n",
    "for i in range(len(list(models))):\n",
    "    model = list(models.values())[i]\n",
    "    model.fit(X_train, y_train) # Train model\n",
    "\n",
    "    # Make predictions\n",
    "    y_train_pred = model.predict(X_train)\n",
    "    y_test_pred = model.predict(X_test)\n",
    "    \n",
    "    # Evaluate Train and Test dataset\n",
    "    model_train_mae , model_train_rmse, model_train_r2 = evaluate_model(y_train, y_train_pred)\n",
    "\n",
    "    model_test_mae , model_test_rmse, model_test_r2 = evaluate_model(y_test, y_test_pred)\n",
    "\n",
    "    \n",
    "    print(list(models.keys())[i])\n",
    "    model_list.append(list(models.keys())[i])\n",
    "    \n",
    "    print('Model performance for Training set')\n",
    "    print(\"- Root Mean Squared Error: {:.4f}\".format(model_train_rmse))\n",
    "    print(\"- Mean Absolute Error: {:.4f}\".format(model_train_mae))\n",
    "    print(\"- R2 Score: {:.4f}\".format(model_train_r2))\n",
    "\n",
    "    print('----------------------------------')\n",
    "    \n",
    "    print('Model performance for Test set')\n",
    "    print(\"- Root Mean Squared Error: {:.4f}\".format(model_test_rmse))\n",
    "    print(\"- Mean Absolute Error: {:.4f}\".format(model_test_mae))\n",
    "    print(\"- R2 Score: {:.4f}\".format(model_test_r2))\n",
    "    r2_list.append(model_test_r2)\n",
    "    \n",
    "    print('='*35)\n",
    "    print('\\n')"
   ]
  },
  {
   "cell_type": "markdown",
   "id": "da50690f",
   "metadata": {},
   "source": [
    "### Results"
   ]
  },
  {
   "cell_type": "code",
   "execution_count": 35,
   "id": "2e4c8cfc",
   "metadata": {},
   "outputs": [
    {
     "data": {
      "text/html": [
       "<div>\n",
       "<style scoped>\n",
       "    .dataframe tbody tr th:only-of-type {\n",
       "        vertical-align: middle;\n",
       "    }\n",
       "\n",
       "    .dataframe tbody tr th {\n",
       "        vertical-align: top;\n",
       "    }\n",
       "\n",
       "    .dataframe thead th {\n",
       "        text-align: right;\n",
       "    }\n",
       "</style>\n",
       "<table border=\"1\" class=\"dataframe\">\n",
       "  <thead>\n",
       "    <tr style=\"text-align: right;\">\n",
       "      <th></th>\n",
       "      <th>Model Name</th>\n",
       "      <th>R2_Score</th>\n",
       "    </tr>\n",
       "  </thead>\n",
       "  <tbody>\n",
       "    <tr>\n",
       "      <th>5</th>\n",
       "      <td>Random Forest Regressor</td>\n",
       "      <td>8.295005e-01</td>\n",
       "    </tr>\n",
       "    <tr>\n",
       "      <th>6</th>\n",
       "      <td>AdaBoost Regressor</td>\n",
       "      <td>7.877688e-01</td>\n",
       "    </tr>\n",
       "    <tr>\n",
       "      <th>2</th>\n",
       "      <td>Ridge</td>\n",
       "      <td>7.815748e-01</td>\n",
       "    </tr>\n",
       "    <tr>\n",
       "      <th>1</th>\n",
       "      <td>Lasso</td>\n",
       "      <td>7.482398e-01</td>\n",
       "    </tr>\n",
       "    <tr>\n",
       "      <th>4</th>\n",
       "      <td>Decision Tree</td>\n",
       "      <td>6.207815e-01</td>\n",
       "    </tr>\n",
       "    <tr>\n",
       "      <th>3</th>\n",
       "      <td>K-Neighbors Regressor</td>\n",
       "      <td>5.568560e-01</td>\n",
       "    </tr>\n",
       "    <tr>\n",
       "      <th>0</th>\n",
       "      <td>Linear Regression</td>\n",
       "      <td>-7.114404e+06</td>\n",
       "    </tr>\n",
       "  </tbody>\n",
       "</table>\n",
       "</div>"
      ],
      "text/plain": [
       "                Model Name      R2_Score\n",
       "5  Random Forest Regressor  8.295005e-01\n",
       "6       AdaBoost Regressor  7.877688e-01\n",
       "2                    Ridge  7.815748e-01\n",
       "1                    Lasso  7.482398e-01\n",
       "4            Decision Tree  6.207815e-01\n",
       "3    K-Neighbors Regressor  5.568560e-01\n",
       "0        Linear Regression -7.114404e+06"
      ]
     },
     "execution_count": 35,
     "metadata": {},
     "output_type": "execute_result"
    }
   ],
   "source": [
    "pd.DataFrame(list(zip(model_list, r2_list)), columns=['Model Name', 'R2_Score']).sort_values(by=[\"R2_Score\"],ascending=False)"
   ]
  },
  {
   "cell_type": "markdown",
   "id": "92e556b6",
   "metadata": {},
   "source": [
    "## Random Forest Regressor"
   ]
  },
  {
   "cell_type": "code",
   "execution_count": 36,
   "id": "59616275",
   "metadata": {},
   "outputs": [
    {
     "name": "stdout",
     "output_type": "stream",
     "text": [
      " Accuracy of the model is 83.28\n"
     ]
    }
   ],
   "source": [
    "forest_model = RandomForestRegressor(random_state=1)\n",
    "forest_model.fit(X_train, y_train)\n",
    "y_pred = forest_model.predict(X_test)\n",
    "score = r2_score(y_test, y_pred)*100\n",
    "print(\" Accuracy of the model is %.2f\" %score)"
   ]
  }
 ],
 "metadata": {
  "kernelspec": {
   "display_name": "Python 3 (ipykernel)",
   "language": "python",
   "name": "python3"
  },
  "language_info": {
   "codemirror_mode": {
    "name": "ipython",
    "version": 3
   },
   "file_extension": ".py",
   "mimetype": "text/x-python",
   "name": "python",
   "nbconvert_exporter": "python",
   "pygments_lexer": "ipython3",
   "version": "3.10.9"
  }
 },
 "nbformat": 4,
 "nbformat_minor": 5
}
